{
  "cells": [
    {
      "cell_type": "markdown",
      "source": [
        "# Sweep Training\n",
        "\n",
        "We can perform hyperparameter sweep directly on Colab."
      ],
      "metadata": {
        "id": "ssCOanHc8JH_"
      }
    },
    {
      "cell_type": "markdown",
      "source": [
        "\n",
        "\n",
        "```\n",
        "# This is formatted as code\n",
        "```\n",
        "\n",
        "[![Open In Colab](https://colab.research.google.com/assets/colab-badge.svg)](https://colab.research.google.com/github/google/brax/blob/main/notebooks/braxlines/experiment_sweep.ipynb)"
      ],
      "metadata": {
        "id": "VYe1kc3a4Oxc"
      }
    },
    {
      "cell_type": "code",
      "execution_count": null,
      "source": [
        "#@title Colab setup and imports\n",
        "#@markdown ## ⚠️ PLEASE NOTE:\n",
        "#@markdown This colab runs best using a TPU runtime.  From the Colab menu, choose Runtime > Change Runtime Type, then select **'TPU'** in the dropdown.\n",
        "\n",
        "#@markdown See [config_utils.py](https://github.com/google/brax/blob/main/brax/experimental/braxlines/common/config_utils.py)\n",
        "#@markdown for the configuration format.\n",
        "from datetime import datetime\n",
        "import importlib\n",
        "import os\n",
        "import pprint\n",
        "\n",
        "from IPython.display import HTML, clear_output\n",
        "\n",
        "try:\n",
        "  import brax\n",
        "except ImportError:\n",
        "  !pip install git+https://github.com/google/brax.git@main\n",
        "  clear_output()\n",
        "  import brax\n",
        "\n",
        "agent_module = 'brax.experimental.braxlines.vgcrl.train' #@param{'type': 'string'}\n",
        "output_path = '' #@param{'type': 'string'}\n",
        "start_count = 0 # @param{'type': 'integer'}\n",
        "end_count = 100000000 # @param{'type': 'integer'}\n",
        "experiment_path = None #@param{'type': 'raw'}\n",
        "experiment_path=experiment_path or datetime.now().strftime('%Y%m%d_%H%M%S')\n",
        "output_path = f'{output_path}/{experiment_path}'\n",
        "\n",
        "from brax.experimental.braxlines.common import config_utils\n",
        "train = importlib.import_module(agent_module)\n",
        "if \"COLAB_TPU_ADDR\" in os.environ:\n",
        "  from jax.tools import colab_tpu\n",
        "  colab_tpu.setup_tpu()\n",
        "\n",
        "config = [\n",
        "  dict(\n",
        "      # env_name = ['ant', 'halfcheetah', 'uni_ant', 'bi_ant'],\n",
        "      env_name = 'ant',\n",
        "      env_space = 'vel',\n",
        "      # algo_name = ['gcrl', 'cdiayn', 'diayn', 'diayn_full'],\n",
        "      algo_name = ['gcrl', 'diayn'],\n",
        "      seed = [0],\n",
        "      normalize_obs_for_disc = [False],\n",
        "      spectral_norm = [True],\n",
        "      ppo_params = dict(\n",
        "        num_timesteps=int(2e8),\n",
        "        reward_scaling=10,\n",
        "        episode_length=1000,\n",
        "        normalize_observations=True,\n",
        "        action_repeat=1,\n",
        "        unroll_length=[5, 10, 20],\n",
        "        num_minibatches=32,\n",
        "        num_update_epochs=4,\n",
        "        discounting=0.95,\n",
        "        learning_rate=[3e-4, 3e-5],\n",
        "        entropy_cost=1e-2,\n",
        "        num_envs=[2048, 4096],\n",
        "        batch_size=1024,)\n",
        "  ),\n",
        "]\n",
        "\n",
        "prefix_keys = config_utils.list_keys_to_expand(config)\n",
        "for c, p in zip(config, prefix_keys):\n",
        "  c.update(dict(prefix_keys=p))\n",
        "config_count= config_utils.count_configuration(config)\n",
        "start_count= max(start_count, 0)\n",
        "end_count = min(end_count, sum(config_count))\n",
        "print(f'Loaded agent_module={agent_module}')\n",
        "print(f'Loaded {sum(config_count)}({config_count}) experiment configurations')\n",
        "print(f'Set start_count={start_count}, end_count={end_count}')\n",
        "print(f'Set prefix_keys={prefix_keys}')\n",
        "print(f'Set output_dir={output_path}')"
      ],
      "outputs": [],
      "metadata": {
        "id": "rlVNS8JstMRr"
      }
    },
    {
      "cell_type": "code",
      "execution_count": null,
      "source": [
        "#@title Launch experiments\n",
        "\n",
        "return_dict = {}\n",
        "for i in range(start_count, end_count):\n",
        "  c= config_utils.index_configuration(config, index=i, count=config_count)\n",
        "  task_name = config_utils.get_compressed_name_from_keys(\n",
        "      c, train.TASK_KEYS)\n",
        "  experiment_name = config_utils.get_compressed_name_from_keys(\n",
        "      c, c.pop('prefix_keys'))\n",
        "  output_dir = f'{output_path}/{task_name}/{experiment_name}'\n",
        "  print(f'[{i+1}/{sum(config_count)}] Starting experiment...')\n",
        "  print(f'\\t config: {pprint.pformat(c, indent=2)}')\n",
        "  print(f'\\t output_dir={output_dir}')\n",
        "  print(f'\\t previous time_to_jit={return_dict.get(\"time_to_train\", None)}')\n",
        "  print(f'\\t previous time_to_train={return_dict.get(\"time_to_jit\", None)}')\n",
        "  return_dict = {}\n",
        "  try:\n",
        "    train.train(c, output_dir=output_dir, return_dict=return_dict)\n",
        "  except Error as e:\n",
        "    print(f'[{i+1}/{sum(config_count)}] FAILED experiment {e}')"
      ],
      "outputs": [],
      "metadata": {
        "id": "NaJDZqhCLovU"
      }
    }
  ],
  "metadata": {
    "accelerator": "TPU",
    "colab": {
      "collapsed_sections": [],
      "last_runtime": {
        "build_target": "//learning/deepmind/public/tools/ml_python:ml_notebook",
        "kind": "private"
      },
      "name": "experiment_sweep.ipynb",
      "private_outputs": true,
      "provenance": [
        {
          "file_id": "1zvUdazhGU7ZjPl-Vb2GSESCWtEgiw2bJ",
          "timestamp": 1629757707070
        },
        {
          "file_id": "1ZaAO4BS2tJ_03CIXdBCFibZR2yLl6dtv",
          "timestamp": 1629608669428
        }
      ]
    },
    "kernelspec": {
      "display_name": "Python 3",
      "name": "python3"
    },
    "language_info": {
      "name": "python"
    }
  },
  "nbformat": 4,
  "nbformat_minor": 2
}
