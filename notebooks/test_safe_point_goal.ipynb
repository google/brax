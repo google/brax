{
 "cells": [
  {
   "cell_type": "markdown",
   "metadata": {},
   "source": [
    "# Testing SafePointGoal Environment with PPO-Lagrange\n",
    "\n",
    "This notebook tests the new SafePointGoal environment with Safety Gymnasium-style constraints."
   ]
  },
  {
   "cell_type": "code",
   "execution_count": null,
   "metadata": {},
   "outputs": [],
   "source": [
    "from datetime import datetime\n",
    "import functools\n",
    "import time\n",
    "\n",
    "import os\n",
    "\n",
    "import jax\n",
    "import numpy as np\n",
    "import jax.numpy as jnp\n",
    "from matplotlib import pyplot as plt\n",
    "\n",
    "import mujoco\n",
    "from mujoco import mjx\n",
    "\n",
    "from brax import envs\n",
    "from brax.base import State as PipelineState\n",
    "from brax.envs.base import Env, PipelineEnv, State as BraxState\n",
    "from brax.mjx.base import State as MjxState\n",
    "from brax.training.agents.ppo import train as ppo\n",
    "from brax.training.agents.ppo_lagrange import train as ppo_lagrange\n",
    "from brax.training.agents.ppo_lagrange_v2 import train as ppo_lagrange_v2\n",
    "from brax.training.agents.ppo_lagrange_v3 import train as ppo_lagrange_v3\n",
    "from brax.io import html, mjcf, model as brax_model\n",
    "from brax.io import json as brax_json\n",
    "import wandb\n",
    "from ml_collections import config_dict\n",
    "import subprocess"
   ]
  },
  {
   "cell_type": "code",
   "execution_count": null,
   "metadata": {},
   "outputs": [],
   "source": [
    "# GPU and MuJoCo setup\n",
    "if subprocess.run('nvidia-smi').returncode:\n",
    "    raise RuntimeError('Cannot communicate with GPU. Make sure you have NVIDIA drivers installed.')\n",
    "\n",
    "os.environ['MUJOCO_GL'] = 'egl'\n",
    "\n",
    "try:\n",
    "    print('Checking that the installation succeeded:')\n",
    "    mujoco.MjModel.from_xml_string('<mujoco/>')\n",
    "except Exception as e:\n",
    "    raise e from RuntimeError(\n",
    "        'Something went wrong during installation. Check the error message above '\n",
    "        'for more information.')\n",
    "\n",
    "print('Installation successful.')\n",
    "\n",
    "# Tell XLA to use Triton GEMM\n",
    "xla_flags = os.environ.get('XLA_FLAGS', '')\n",
    "xla_flags += ' --xla_gpu_triton_gemm_any=True'\n",
    "os.environ['XLA_FLAGS'] = xla_flags"
   ]
  },
  {
   "cell_type": "code",
   "execution_count": null,
   "metadata": {},
   "outputs": [],
   "source": [
    "# Test SafePointGoal environment creation\n",
    "env_name = 'safe_point_goal'\n",
    "\n",
    "# Test different hazard counts\n",
    "hazard_counts = [4, 8]\n",
    "\n",
    "for num_hazards in hazard_counts:\n",
    "    print(f\"\\n=== Testing {env_name} with {num_hazards} hazards ===\")\n",
    "    \n",
    "    try:\n",
    "        # Create environment\n",
    "        env = envs.get_environment(env_name, num_hazards=num_hazards)\n",
    "        \n",
    "        print(f\"✓ Environment created successfully\")\n",
    "        print(f\"  Observation space: {env.observation_size}\")\n",
    "        print(f\"  Action space: {env.action_size}\")\n",
    "        \n",
    "        # Test reset\n",
    "        rng = jax.random.PRNGKey(42)\n",
    "        state = env.reset(rng)\n",
    "        print(f\"✓ Reset successful\")\n",
    "        print(f\"  Initial reward: {state.reward}\")\n",
    "        \n",
    "        # Test step\n",
    "        action = jnp.zeros(env.action_size)\n",
    "        next_state = env.step(state, action)\n",
    "        print(f\"✓ Step successful\")\n",
    "        print(f\"  Next reward: {next_state.reward}\")\n",
    "        \n",
    "    except Exception as e:\n",
    "        print(f\"✗ Error with {num_hazards} hazards: {e}\")\n",
    "\n",
    "print(\"\\n🎉 Environment testing completed!\")"
   ]
  }
 ],
 "metadata": {
  "kernelspec": {
   "display_name": "Python 3",
   "language": "python",
   "name": "python3"
  },
  "language_info": {
   "codemirror_mode": {
    "name": "ipython",
    "version": 3
   },
   "file_extension": ".py",
   "mimetype": "text/x-python",
   "name": "python",
   "nbconvert_exporter": "python",
   "pygments_lexer": "ipython3",
   "version": "3.8.5"
  }
 },
 "nbformat": 4,
 "nbformat_minor": 4
}


