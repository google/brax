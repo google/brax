{
 "cells": [
  {
   "cell_type": "markdown",
   "source": [
    "[![Open In Colab](https://colab.research.google.com/assets/colab-badge.svg)](https://colab.research.google.com/github/google/brax/blob/main/notebooks/gym_pytorch.ipynb)"
   ],
   "metadata": {}
  },
  {
   "cell_type": "markdown",
   "source": [
    "# Using Brax with Gym + PyTorch"
   ],
   "metadata": {}
  },
  {
   "cell_type": "markdown",
   "source": [
    "Author: @lebrice (Fabrice Normandin)"
   ],
   "metadata": {}
  },
  {
   "cell_type": "code",
   "execution_count": 1,
   "source": [
    "# Imports:\n",
    "import time\n",
    "import torch\n",
    "from functools import partial\n",
    "import time\n",
    "\n",
    "import gym\n",
    "import tqdm\n",
    "import numpy as np\n",
    "\n",
    "from brax.envs.to_torch import JaxToTorchWrapper\n",
    "from brax.envs import _envs, create_gym_env\n",
    "\n",
    "# Detect if running in Colab or not.\n",
    "COLAB = \"google.colab\" in str(get_ipython())\n",
    "\n",
    "if COLAB:\n",
    "    from jax.tools import colab_tpu\n",
    "    # configure jax to run on tpu:\n",
    "    colab_tpu.setup_tpu()\n",
    "\n",
    "# Registering the Brax envs in Gym (so we can use `gym.make` as usual):\n",
    "for env_name, env_class in _envs.items():\n",
    "    env_id = f\"brax_{env_name}-v0\"\n",
    "    entry_point = partial(create_gym_env, env_name=env_name)\n",
    "    if env_id not in gym.envs.registry.env_specs:\n",
    "        print(f\"Registring brax's '{env_name}' env under id '{env_id}'.\")\n",
    "        gym.register(env_id, entry_point=entry_point)\n",
    "\n",
    "# Simple utility function for benchmarking below.\n",
    "def tick(name: str = \"\"):\n",
    "    global _times\n",
    "    _times.append(time.time())\n",
    "    elapsed = _times[-1] - _times[-2]\n",
    "    if name:\n",
    "        print(f\"Time for {name}: {elapsed}\")\n",
    "    return elapsed\n",
    "\n",
    "CUDA = torch.cuda.is_available()\n",
    "if CUDA:\n",
    "    # BUG: (@lebrice): Getting a weird \"CUDA error: out of memory\" RuntimeError during\n",
    "    # JIT, which can be \"fixed\" by first creating a dummy cuda tensor!\n",
    "    v = torch.ones(1, device=\"cuda\")\n"
   ],
   "outputs": [
    {
     "output_type": "stream",
     "name": "stdout",
     "text": [
      "Registring brax's 'fetch' env under id 'brax_fetch-v0'.\n",
      "Registring brax's 'ant' env under id 'brax_ant-v0'.\n",
      "Registring brax's 'grasp' env under id 'brax_grasp-v0'.\n",
      "Registring brax's 'halfcheetah' env under id 'brax_halfcheetah-v0'.\n",
      "Registring brax's 'humanoid' env under id 'brax_humanoid-v0'.\n",
      "Registring brax's 'ur5e' env under id 'brax_ur5e-v0'.\n",
      "Registring brax's 'reacher' env under id 'brax_reacher-v0'.\n",
      "Registring brax's 'reacherangle' env under id 'brax_reacherangle-v0'.\n"
     ]
    }
   ],
   "metadata": {}
  },
  {
   "cell_type": "markdown",
   "source": [
    "## Benchmarking the performance of the Pytorch'ed Brax gym Env:"
   ],
   "metadata": {}
  },
  {
   "cell_type": "code",
   "execution_count": 2,
   "source": [
    "_times = [time.time()]\n",
    "\n",
    "# Number of parallel environments\n",
    "batch_size = 1024  #@param { type:\"slider\", min:0, max:4096, step: 1 }\n",
    "\n",
    "# Number of steps to take in the batched env.\n",
    "n_steps = 1000\n",
    "\n",
    "\n",
    "\n",
    "env = gym.make(\"brax_halfcheetah-v0\", batch_size=batch_size)\n",
    "tick(\"Creating the env\")\n",
    "\n",
    "env = JaxToTorchWrapper(env)\n",
    "tick(\"Wrapping the env\")\n",
    "\n",
    "obs = env.reset()  # this can be relatively slow (~10 secs)\n",
    "tick(\"First reset\") \n",
    "\n",
    "obs, reward, done, info = env.step(env.action_space.sample())\n",
    "tick(\"First step\")  # this can be relatively slow (~10 secs)\n",
    "\n",
    "obs, reward, done, info = env.step(env.action_space.sample())\n",
    "tick(\"Second step\")  # this can be relatively slow (~10 secs)\n",
    "\n",
    "_times.clear()\n",
    "_times.append(time.time())\n",
    "\n",
    "# Create a Progress bar. NOTE: This Pbar effectively shows the step rate as well!\n",
    "pbar = tqdm.tqdm(range(n_steps), unit_scale=batch_size)\n",
    "for i in pbar:\n",
    "    # NOTE: Could use the `action_space` property like so even with CUDA, but we'd need\n",
    "    # to move the numpy array from CPU to GPU/TPU, which would kind-of defeat the\n",
    "    # purpose of this demo! Here we instead create a Tensor which is already on the GPU.\n",
    "    if not CUDA:\n",
    "        action = env.action_space.sample()\n",
    "    else:\n",
    "        action = torch.rand(env.action_space.shape, device=\"cuda\") * 2 - 1\n",
    "    obs, rewards, done, info = env.step(action)\n",
    "    tick()\n",
    "\n",
    "\n",
    "elapsed_times = [_times[i+1] - _times[i] for i in range(len(_times)-1)]\n",
    "\n",
    "time_per_step_avg = np.mean(elapsed_times)\n",
    "time_per_step_std = np.std(elapsed_times)\n",
    "\n",
    "frequency =  1 / time_per_step_avg\n",
    "effective_frequency = (batch_size or 1) * frequency\n",
    "\n",
    "print(f\"Device used: {obs.device}\")\n",
    "print(f\"Number of parallel environments: {batch_size}\")\n",
    "print(f\"Average time per batched step:  {time_per_step_avg} ± {time_per_step_std} seconds\")\n",
    "print(f\"Frequency (after first two steps): ~{frequency:.3f} batched steps / second.\")\n",
    "print(f\"Effective Frequency (after first two steps): ~{effective_frequency:.3f} steps / second.\")"
   ],
   "outputs": [
    {
     "output_type": "stream",
     "name": "stdout",
     "text": [
      "Time for Creating the env: 10.294265508651733\n",
      "Time for Wrapping the env: 0.00015664100646972656\n",
      "Time for First reset: 3.978239059448242\n",
      "Time for First step: 2.3907294273376465\n",
      "Time for Second step: 2.2790026664733887\n"
     ]
    },
    {
     "output_type": "stream",
     "name": "stderr",
     "text": [
      "100%|██████████| 1024000/1024000 [00:03<00:00, 296106.44it/s]"
     ]
    },
    {
     "output_type": "stream",
     "name": "stdout",
     "text": [
      "Device used: cuda:0\n",
      "Number of parallel environments: 1024\n",
      "Average time per batched step:  0.0034599435329437257 ± 0.00036434224775974217 seconds\n",
      "Frequency (after first two steps): ~289.022 batched steps / second.\n",
      "Effective Frequency (after first two steps): ~295958.587 steps / second.\n"
     ]
    },
    {
     "output_type": "stream",
     "name": "stderr",
     "text": [
      "\n"
     ]
    }
   ],
   "metadata": {}
  }
 ],
 "metadata": {
  "orig_nbformat": 4,
  "language_info": {
   "name": "python",
   "version": "3.8.10",
   "mimetype": "text/x-python",
   "codemirror_mode": {
    "name": "ipython",
    "version": 3
   },
   "pygments_lexer": "ipython3",
   "nbconvert_exporter": "python",
   "file_extension": ".py"
  },
  "kernelspec": {
   "name": "python3",
   "display_name": "Python 3.8.10 64-bit ('brax': conda)"
  },
  "interpreter": {
   "hash": "1812c2cdf0067f1c111fe8b907e8717aab013f923026de8fa0a048a0a07a7c66"
  }
 },
 "nbformat": 4,
 "nbformat_minor": 2
}