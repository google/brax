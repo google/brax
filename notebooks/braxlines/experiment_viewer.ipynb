{
  "cells": [
    {
      "cell_type": "markdown",
      "source": [
        "# Experiment Viewer\n",
        "\n",
        "We can visualize hyperparameter sweep result directly on Colab."
      ],
      "metadata": {
        "id": "ssCOanHc8JH_"
      }
    },
    {
      "cell_type": "markdown",
      "source": [
        "\n",
        "\n",
        "```\n",
        "# This is formatted as code\n",
        "```\n",
        "\n",
        "[![Open In Colab](https://colab.research.google.com/assets/colab-badge.svg)](https://colab.research.google.com/github/google/brax/blob/main/experimental/braxlines/notebooks/vgcrl.ipynb)"
      ],
      "metadata": {
        "id": "VYe1kc3a4Oxc"
      }
    },
    {
      "cell_type": "code",
      "execution_count": null,
      "source": [
        "# @title Colab setup and imports\n",
        "import os\n",
        "from IPython.display import clear_output\n",
        "\n",
        "try:\n",
        "  import brax\n",
        "except ImportError:\n",
        "  !pip install git+https://github.com/google/brax.git@main\n",
        "  clear_output()\n",
        "  import brax\n",
        "\n",
        "output_path = '' #@param{'type': 'string'}\n",
        "\n",
        "from brax.io import file\n",
        "from brax.experimental.braxlines.common import logger_utils\n",
        "\n",
        "pattern = f'{output_path}/**/training_curves.csv'\n",
        "csv_files = file.Glob(pattern)\n",
        "print(f'Found {len(csv_files)} files matching {pattern}')\n"
      ],
      "outputs": [],
      "metadata": {
        "id": "rlVNS8JstMRr"
      }
    },
    {
      "cell_type": "code",
      "execution_count": null,
      "source": [
        "# @title Load data\n",
        "data = {}\n",
        "for i, csv_file in enumerate(csv_files):\n",
        "  key = os.path.basename(os.path.dirname(csv_file))\n",
        "  print(f'[{i+1}/{len(csv_files)}]')\n",
        "  data[key] = logger_utils.parse_csv(csv_file, verbose=True)"
      ],
      "outputs": [],
      "metadata": {
        "id": "9Mn_Iml-w71b"
      }
    },
    {
      "cell_type": "code",
      "execution_count": null,
      "source": [
        "# @title Plot data\n",
        "import matplotlib.pyplot as plt\n",
        "import numpy as np\n",
        "import re\n",
        "\n",
        "def spec(N):\n",
        "  t = np.linspace(-510, 510, N)\n",
        "  return np.clip(np.stack([-t, 510 - np.abs(t), t], axis=1), 0, 255) / 255.\n",
        "\n",
        "xlabel = 'num_steps' # @param['num_steps']\n",
        "ylabel = 'eval/episode_reward' # @param['eval/episode_reward', 'losses/disc_loss']\n",
        "filter_regex = '' # @param{'type': 'string'}\n",
        "filter_regex = f'.*{filter_regex}.*'\n",
        "\n",
        "fig, ax = plt.subplots(figsize=(7,6))\n",
        "colors = spec(len(data))\n",
        "for (k, v), c in zip(sorted(data.items()), colors):\n",
        "  if not re.match(filter_regex, k):\n",
        "    continue\n",
        "  if ylabel in v:\n",
        "    ax.plot(v[xlabel], v[ylabel], label=k, c=c)\n",
        "ax.set(xlabel=xlabel, ylabel=ylabel)\n",
        "ax.legend()\n",
        "fig.tight_layout()\n",
        "plt.show()"
      ],
      "outputs": [],
      "metadata": {
        "id": "yEwJnB4F3sYk"
      }
    }
  ],
  "metadata": {
    "accelerator": "TPU",
    "colab": {
      "collapsed_sections": [],
      "last_runtime": {
        "build_target": "//learning/deepmind/public/tools/ml_python:ml_notebook",
        "kind": "private"
      },
      "name": "experiment_viewer.ipynb",
      "private_outputs": true,
      "provenance": [
        {
          "file_id": "1-fplVbCqf5xQaosZXC9UcaiKfNpsNKjx",
          "timestamp": 1629757366851
        },
        {
          "file_id": "1zvUdazhGU7ZjPl-Vb2GSESCWtEgiw2bJ",
          "timestamp": 1629749582973
        },
        {
          "file_id": "1ZaAO4BS2tJ_03CIXdBCFibZR2yLl6dtv",
          "timestamp": 1629608669428
        }
      ]
    },
    "kernelspec": {
      "display_name": "Python 3",
      "name": "python3"
    },
    "language_info": {
      "name": "python"
    }
  },
  "nbformat": 4,
  "nbformat_minor": 2
}